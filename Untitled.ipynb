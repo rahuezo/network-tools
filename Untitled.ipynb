{
 "cells": [
  {
   "cell_type": "code",
   "execution_count": 1,
   "metadata": {},
   "outputs": [],
   "source": [
    "columns = [\n",
    "    ('A', 'C', 'B', 'D'), \n",
    "    (('A', 'B'), ('C', 'B'), ('C', 'D'), ''), \n",
    "    ('', '', '', ''), \n",
    "    ('E', 'F', '', ''), \n",
    "    (('A', 'C'), '', '', ''), \n",
    "    (('E', 'F'), ('C', 'E'), '', '')\n",
    "]"
   ]
  },
  {
   "cell_type": "code",
   "execution_count": 22,
   "metadata": {},
   "outputs": [],
   "source": [
    "rows = []\n",
    "\n",
    "for i in range(len(columns[0])):\n",
    "    row = []\n",
    "    for j in range(len(columns)): \n",
    "        row.append(columns[j][i])\n",
    "    rows.append(row)"
   ]
  },
  {
   "cell_type": "code",
   "execution_count": 23,
   "metadata": {},
   "outputs": [
    {
     "data": {
      "text/plain": [
       "[['A', ('A', 'B'), '', 'E', ('A', 'C'), ('E', 'F')],\n",
       " ['C', ('C', 'B'), '', 'F', '', ('C', 'E')],\n",
       " ['B', ('C', 'D'), '', '', '', ''],\n",
       " ['D', '', '', '', '', '']]"
      ]
     },
     "execution_count": 23,
     "metadata": {},
     "output_type": "execute_result"
    }
   ],
   "source": [
    "rows"
   ]
  },
  {
   "cell_type": "code",
   "execution_count": 26,
   "metadata": {},
   "outputs": [],
   "source": [
    "rows = [[columns[j][i] for j in xrange(len(columns))] for i in xrange(len(columns[0]))]"
   ]
  },
  {
   "cell_type": "code",
   "execution_count": 27,
   "metadata": {},
   "outputs": [
    {
     "data": {
      "text/plain": [
       "[['A', ('A', 'B'), '', 'E', ('A', 'C'), ('E', 'F')],\n",
       " ['C', ('C', 'B'), '', 'F', '', ('C', 'E')],\n",
       " ['B', ('C', 'D'), '', '', '', ''],\n",
       " ['D', '', '', '', '', '']]"
      ]
     },
     "execution_count": 27,
     "metadata": {},
     "output_type": "execute_result"
    }
   ],
   "source": [
    "rows"
   ]
  },
  {
   "cell_type": "code",
   "execution_count": null,
   "metadata": {},
   "outputs": [],
   "source": []
  }
 ],
 "metadata": {
  "kernelspec": {
   "display_name": "Python 2",
   "language": "python",
   "name": "python2"
  },
  "language_info": {
   "codemirror_mode": {
    "name": "ipython",
    "version": 2
   },
   "file_extension": ".py",
   "mimetype": "text/x-python",
   "name": "python",
   "nbconvert_exporter": "python",
   "pygments_lexer": "ipython2",
   "version": "2.7.14"
  }
 },
 "nbformat": 4,
 "nbformat_minor": 2
}
